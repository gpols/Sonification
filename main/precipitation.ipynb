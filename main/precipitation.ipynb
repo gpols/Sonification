{
 "cells": [
  {
   "cell_type": "code",
   "execution_count": 1,
   "metadata": {},
   "outputs": [],
   "source": [
    "from libraries import *"
   ]
  },
  {
   "cell_type": "code",
   "execution_count": 3,
   "metadata": {},
   "outputs": [
    {
     "name": "stdout",
     "output_type": "stream",
     "text": [
      "           Date        UK\n",
      "648  2024-01-31  0.112557\n",
      "649  2024-02-29  0.111266\n",
      "650  2024-03-31  0.084483\n",
      "651  2024-04-30  0.071342\n",
      "652  2024-05-31  0.073365\n",
      "...         ...       ...\n",
      "1543 2098-08-31  0.062422\n",
      "1544 2098-09-30  0.080680\n",
      "1545 2098-10-31  0.085424\n",
      "1546 2098-11-30  0.048578\n",
      "1547 2098-12-31  0.097036\n",
      "\n",
      "[900 rows x 2 columns]\n"
     ]
    }
   ],
   "source": [
    "# File path\n",
    "# precipitation in meters\n",
    "# https://confluence.ecmwf.int/display/CKB/Climate+and+energy+indicators+for+Europe+Variable+Fact+Sheet%3A+Precipitation\n",
    "precip_path = \"../data_files/P_CMI5_RCMO_CM20_TP-_0000m_Euro_NUT0_S197001010000_E209812312100_ACC_TIM_01m_NA-_cdf_org_01_RCP85_NA---_NA---.csv\"\n",
    "\n",
    "# Skip metadata rows and read the data\n",
    "precip_df = pd.read_csv(\n",
    "    precip_path, \n",
    "    skiprows=52,  # Skip rows up to the actual data header\n",
    "    sep=',',      # Specify the correct delimiter (comma in this case)\n",
    "    engine='python',  # Use Python engine for flexible parsing\n",
    "    on_bad_lines='skip'  # Skip any problematic rows\n",
    ")\n",
    "\n",
    "# Display the first few rows to verify\n",
    "# print(precip_df.head())\n",
    "\n",
    "# Ensure 'Date' is parsed as a datetime column\n",
    "precip_df['Date'] = pd.to_datetime(precip_df['Date'])\n",
    "\n",
    "# Filter rows between 2024 and 2098\n",
    "precip_pred = precip_df[precip_df['Date'].dt.year >= 2024]\n",
    "\n",
    "# Select only 'Date' and 'UK' columns\n",
    "precip_uk = precip_pred[['Date', 'UK']]\n",
    "\n",
    "# Display the resulting data\n",
    "print(precip_uk)\n"
   ]
  },
  {
   "cell_type": "code",
   "execution_count": null,
   "metadata": {},
   "outputs": [],
   "source": []
  }
 ],
 "metadata": {
  "kernelspec": {
   "display_name": "Year3",
   "language": "python",
   "name": "python3"
  },
  "language_info": {
   "codemirror_mode": {
    "name": "ipython",
    "version": 3
   },
   "file_extension": ".py",
   "mimetype": "text/x-python",
   "name": "python",
   "nbconvert_exporter": "python",
   "pygments_lexer": "ipython3",
   "version": "3.12.3"
  }
 },
 "nbformat": 4,
 "nbformat_minor": 2
}
