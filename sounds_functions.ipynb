{
 "cells": [
  {
   "cell_type": "code",
   "execution_count": 4,
   "metadata": {},
   "outputs": [],
   "source": [
    "from libraries import *"
   ]
  },
  {
   "cell_type": "code",
   "execution_count": 5,
   "metadata": {},
   "outputs": [],
   "source": [
    "def sine_wave(freq, length, fs):\n",
    "    \"\"\"Sine Wave Waveform\"\"\"\n",
    "    return (np.sin(2 * np.pi * np.arange(fs * length) * freq / fs)).astype(np.float32)\n",
    "\n",
    "\n",
    "def square_wave(freq, length, fs):\n",
    "    \"\"\"Square Wave Waveform\"\"\"\n",
    "    return signal.square(2 * np.pi * np.arange(fs * length) * freq / fs).astype(\n",
    "        np.float32\n",
    "    )\n",
    "\n",
    "\n",
    "def sawtooth_wave(freq, length, fs):\n",
    "    \"\"\"Sawtooth Wave Waveform\"\"\"\n",
    "    return signal.sawtooth(2 * np.pi * np.arange(fs * length) * freq / fs).astype(\n",
    "        np.float32\n",
    "    )\n"
   ]
  },
  {
   "cell_type": "code",
   "execution_count": null,
   "metadata": {},
   "outputs": [],
   "source": []
  }
 ],
 "metadata": {
  "kernelspec": {
   "display_name": "Year3",
   "language": "python",
   "name": "python3"
  },
  "language_info": {
   "codemirror_mode": {
    "name": "ipython",
    "version": 3
   },
   "file_extension": ".py",
   "mimetype": "text/x-python",
   "name": "python",
   "nbconvert_exporter": "python",
   "pygments_lexer": "ipython3",
   "version": "3.12.3"
  }
 },
 "nbformat": 4,
 "nbformat_minor": 2
}
