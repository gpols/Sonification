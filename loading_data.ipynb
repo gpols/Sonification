{
 "cells": [
  {
   "cell_type": "code",
   "execution_count": null,
   "metadata": {},
   "outputs": [],
   "source": [
    "import xarray as xr\n",
    "!pip install cftime  # Install cftime to handle non-standard calendars\n",
    "# Install required libraries\n",
    "!pip install xarray cfgrib h5py netCDF4\n",
    "\n",
    "\n",
    "# Load the file\n",
    "from netCDF4 import Dataset\n",
    "\n",
    "nc_file = Dataset('/content/drive/MyDrive/Colab Notebooks/file_4.nc', 'r')\n",
    "\n",
    "# Explore the file\n",
    "# print(nc_file)\n",
    "print(nc_file.variables.keys())  # List all variables\n",
    "\n",
    "# Access specific variables\n",
    "temperature = nc_file.variables['ts'][:]  # Replace 'temperature' with the variable name\n",
    "print(temperature)"
   ]
  }
 ],
 "metadata": {
  "language_info": {
   "name": "python"
  }
 },
 "nbformat": 4,
 "nbformat_minor": 2
}
