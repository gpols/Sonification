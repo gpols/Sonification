{
 "cells": [
  {
   "cell_type": "code",
   "execution_count": 1,
   "metadata": {},
   "outputs": [],
   "source": [
    "# Libraries\n",
    "\n",
    "import xarray as xr\n",
    "import pandas as pd\n"
   ]
  },
  {
   "cell_type": "code",
   "execution_count": 53,
   "metadata": {},
   "outputs": [
    {
     "name": "stdout",
     "output_type": "stream",
     "text": [
      "           Date          UK\n",
      "648  2024-01-31  278.318442\n",
      "649  2024-02-29  279.679320\n",
      "650  2024-03-31  281.119786\n",
      "651  2024-04-30  281.463725\n",
      "652  2024-05-31  283.513798\n",
      "...         ...         ...\n",
      "1543 2098-08-31  292.090237\n",
      "1544 2098-09-30  290.784606\n",
      "1545 2098-10-31  288.767088\n",
      "1546 2098-11-30  281.167716\n",
      "1547 2098-12-31  281.603563\n",
      "\n",
      "[900 rows x 2 columns]\n"
     ]
    }
   ],
   "source": [
    "# File path\n",
    "# temperature in kelvin\n",
    "temp_path = \"data_files/P_CMI5_RCMO_CM20_TA-_0002m_Euro_NUT0_S197001010000_E209812312100_INS_TIM_01m_NA-_cdf_org_01_RCP85_NA---_NA---.csv\"\n",
    "\n",
    "# Skip metadata rows and read the data\n",
    "temp_df = pd.read_csv(\n",
    "    temp_path, \n",
    "    skiprows=52,  # Skip rows up to the actual data header\n",
    "    sep=',',      # Specify the correct delimiter (comma in this case)\n",
    "    engine='python',  # Use Python engine for flexible parsing\n",
    "    on_bad_lines='skip'  # Skip any problematic rows\n",
    ")\n",
    "\n",
    "# temp_df.info()\n",
    "# Display the first few rows to verify\n",
    "# print(temp_df.head())\n",
    "\n",
    "# Ensure 'Date' is parsed as a datetime column\n",
    "temp_df['Date'] = pd.to_datetime(temp_df['Date'])\n",
    "\n",
    "# Filter rows between 2024 and 2098\n",
    "temp_pred = temp_df[temp_df['Date'].dt.year >= 2024]\n",
    "\n",
    "# Select only 'Date' and 'UK' columns\n",
    "temp_uk = temp_pred[['Date', 'UK']]\n",
    "\n",
    "# Display the resulting data\n",
    "print(temp_uk)\n",
    "\n"
   ]
  },
  {
   "cell_type": "code",
   "execution_count": null,
   "metadata": {},
   "outputs": [
    {
     "name": "stdout",
     "output_type": "stream",
     "text": [
      "           Date        UK\n",
      "648  2024-01-31  0.112557\n",
      "649  2024-02-29  0.111266\n",
      "650  2024-03-31  0.084483\n",
      "651  2024-04-30  0.071342\n",
      "652  2024-05-31  0.073365\n",
      "...         ...       ...\n",
      "1543 2098-08-31  0.062422\n",
      "1544 2098-09-30  0.080680\n",
      "1545 2098-10-31  0.085424\n",
      "1546 2098-11-30  0.048578\n",
      "1547 2098-12-31  0.097036\n",
      "\n",
      "[900 rows x 2 columns]\n"
     ]
    }
   ],
   "source": [
    "# File path\n",
    "# precipitation in meters\n",
    "# https://confluence.ecmwf.int/display/CKB/Climate+and+energy+indicators+for+Europe+Variable+Fact+Sheet%3A+Precipitation\n",
    "precip_path = \"data_files/P_CMI5_RCMO_CM20_TP-_0000m_Euro_NUT0_S197001010000_E209812312100_ACC_TIM_01m_NA-_cdf_org_01_RCP85_NA---_NA---.csv\"\n",
    "\n",
    "# Skip metadata rows and read the data\n",
    "precip_df = pd.read_csv(\n",
    "    precip_path, \n",
    "    skiprows=52,  # Skip rows up to the actual data header\n",
    "    sep=',',      # Specify the correct delimiter (comma in this case)\n",
    "    engine='python',  # Use Python engine for flexible parsing\n",
    "    on_bad_lines='skip'  # Skip any problematic rows\n",
    ")\n",
    "\n",
    "# Display the first few rows to verify\n",
    "# print(precip_df.head())\n",
    "\n",
    "# Ensure 'Date' is parsed as a datetime column\n",
    "precip_df['Date'] = pd.to_datetime(precip_df['Date'])\n",
    "\n",
    "# Filter rows between 2024 and 2098\n",
    "precip_pred = precip_df[precip_df['Date'].dt.year >= 2024]\n",
    "\n",
    "# Select only 'Date' and 'UK' columns\n",
    "precip_uk = precip_pred[['Date', 'UK']]\n",
    "\n",
    "# Display the resulting data\n",
    "print(precip_uk)\n",
    "\n"
   ]
  },
  {
   "cell_type": "code",
   "execution_count": 52,
   "metadata": {},
   "outputs": [
    {
     "name": "stdout",
     "output_type": "stream",
     "text": [
      "           Date        UK\n",
      "648  2024-01-31  5.663002\n",
      "649  2024-02-29  6.870473\n",
      "650  2024-03-31  5.629517\n",
      "651  2024-04-30  3.811083\n",
      "652  2024-05-31  4.063906\n",
      "...         ...       ...\n",
      "1543 2098-08-31  3.462024\n",
      "1544 2098-09-30  4.471978\n",
      "1545 2098-10-31  4.152824\n",
      "1546 2098-11-30  3.629667\n",
      "1547 2098-12-31  4.886961\n",
      "\n",
      "[900 rows x 2 columns]\n"
     ]
    }
   ],
   "source": [
    "# File path\n",
    "# wind speed Metres per second (m/s or m s-1) 10 meters\n",
    "# https://confluence.ecmwf.int/display/CKB/Climate+and+energy+indicators+for+Europe+Variable+Fact+Sheet%3A+Wind+Speed\n",
    "wind_path = \"data_files/P_CMI5_RCMO_CM20_WS-_0010m_Euro_NUT0_S197001010000_E209812312100_INS_TIM_01m_NA-_cdf_org_01_RCP85_NA---_NA---.csv\"\n",
    "\n",
    "# Skip metadata rows and read the data\n",
    "wind_df = pd.read_csv(\n",
    "    wind_path, \n",
    "    skiprows=52,  # Skip rows up to the actual data header\n",
    "    sep=',',      # Specify the correct delimiter (comma in this case)\n",
    "    engine='python',  # Use Python engine for flexible parsing\n",
    "    on_bad_lines='skip'  # Skip any problematic rows\n",
    ")\n",
    "\n",
    "# Display the first few rows to verify\n",
    "# print(wind_df.head())\n",
    "\n",
    "# Ensure 'Date' is parsed as a datetime column\n",
    "wind_df['Date'] = pd.to_datetime(wind_df['Date'])\n",
    "\n",
    "# Filter rows between 2024 and 2098\n",
    "wind_pred = wind_df[wind_df['Date'].dt.year >= 2024]\n",
    "\n",
    "# Select only 'Date' and 'UK' columns\n",
    "wind_uk = wind_pred[['Date', 'UK']]\n",
    "\n",
    "# Display the resulting data\n",
    "print(wind_uk)\n"
   ]
  },
  {
   "cell_type": "code",
   "execution_count": null,
   "metadata": {},
   "outputs": [],
   "source": []
  }
 ],
 "metadata": {
  "kernelspec": {
   "display_name": "Year3",
   "language": "python",
   "name": "python3"
  },
  "language_info": {
   "codemirror_mode": {
    "name": "ipython",
    "version": 3
   },
   "file_extension": ".py",
   "mimetype": "text/x-python",
   "name": "python",
   "nbconvert_exporter": "python",
   "pygments_lexer": "ipython3",
   "version": "3.12.3"
  }
 },
 "nbformat": 4,
 "nbformat_minor": 2
}
