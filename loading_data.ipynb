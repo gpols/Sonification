{
 "cells": [
  {
   "cell_type": "code",
   "execution_count": null,
   "metadata": {},
   "outputs": [],
   "source": [
    "# Libraries\n",
    "\n",
    "import xarray as xr\n",
    "import pandas as pd\n"
   ]
  },
  {
   "cell_type": "code",
   "execution_count": null,
   "metadata": {},
   "outputs": [
    {
     "name": "stdout",
     "output_type": "stream",
     "text": [
      "                                            # General\n",
      "0                                            ## Title\n",
      "1                                 ### Air Temperature\n",
      "2                                         ## Abstract\n",
      "3                                           ### CMIP5\n",
      "4                                             ## Date\n",
      "..                                                ...\n",
      "95  1973-08-31,293.4764875092931,288.9953256306949...\n",
      "96  1973-09-30,287.152426118547,280.3221412234837,...\n",
      "97  1973-10-31,286.050307347975,281.339577496817,2...\n",
      "98  1973-11-30,279.92230063149793,273.604024124091...\n",
      "99  1973-12-31,276.41331847165355,270.655188013791...\n",
      "\n",
      "[100 rows x 1 columns]\n"
     ]
    }
   ],
   "source": [
    "# Air Temperature File\n",
    "\n",
    "file_path = \"data_files/P_CMI5_RCMO_CM20_TA-_0002m_Euro_NUT0_S197001010000_E209812312100_INS_TIM_01m_NA-_cdf_org_01_RCP85_NA---_NA---.csv\"  # Replace with your file path\n",
    "df = pd.read_csv(file_path, sep=';', nrows=100)  # Change sep to the correct delimiter\n",
    "print(df)"
   ]
  },
  {
   "cell_type": "code",
   "execution_count": null,
   "metadata": {},
   "outputs": [],
   "source": []
  }
 ],
 "metadata": {
  "kernelspec": {
   "display_name": "Year3",
   "language": "python",
   "name": "python3"
  },
  "language_info": {
   "codemirror_mode": {
    "name": "ipython",
    "version": 3
   },
   "file_extension": ".py",
   "mimetype": "text/x-python",
   "name": "python",
   "nbconvert_exporter": "python",
   "pygments_lexer": "ipython3",
   "version": "3.12.3"
  }
 },
 "nbformat": 4,
 "nbformat_minor": 2
}
